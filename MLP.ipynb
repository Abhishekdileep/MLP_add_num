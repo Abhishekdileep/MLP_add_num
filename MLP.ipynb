{
 "cells": [
  {
   "cell_type": "code",
   "execution_count": 123,
   "id": "124d8a35",
   "metadata": {},
   "outputs": [],
   "source": [
    "import numpy as np\n",
    "from random import random\n",
    "\n",
    "class MLP : \n",
    "    #default values are just to test the model , please ignore \n",
    "    def __init__(self , num_inputs= 3 , num_hidden = [3 , 3] , num_outputs=2) : \n",
    "        \n",
    "        #Adding all the number of inputs to the self object\n",
    "        \n",
    "        self.num_inputs = num_inputs \n",
    "        self.num_hidden = num_hidden\n",
    "        self.num_outputs = num_outputs\n",
    "        \n",
    "        #layers for mlp\n",
    "    \n",
    "        layers = [self.num_inputs] + self.num_hidden + [self.num_outputs] #used the [] becuase the num hidden is already\n",
    "        #in matrix form \n",
    "        \n",
    "        #intiate random weights \n",
    "        \n",
    "        weights = []\n",
    "        for i in range(len(layers) - 1) : \n",
    "            w = np.random.rand(layers[i] , layers[i+1]) #random arrays are created , \n",
    "            weights.append(w) \n",
    "        self.weights = weights\n",
    "        \n",
    "        \n",
    "        #activations \n",
    "        activations = [] \n",
    "        for i in range(len(layers)):\n",
    "            a=np.zeros(layers[i])\n",
    "            activations.append(a)\n",
    "        self.activations = activations\n",
    "        \n",
    "        # derivatives \n",
    "        \n",
    "        derivatives = [] \n",
    "        for i in range(len(layers)-1):\n",
    "            d=np.zeros((layers[i] , layers[i+1]))\n",
    "            derivatives.append(d)\n",
    "        self.derivatives = derivatives\n",
    "        \n",
    "        \n",
    "    #neuron activation and input \n",
    "    def foward_propogate(self , inputs) : \n",
    "        \n",
    "        activations= inputs \n",
    "        self.activations[0] = activations \n",
    "        for i,w in enumerate(self.weights) : \n",
    "            #calculate net inputs \n",
    "            net_inputs = np.dot(activations , w)\n",
    "            #calculate the activations \n",
    "            activations = self._sigmoid(net_inputs)\n",
    "            self.activations[i+1] = activations\n",
    "            \n",
    "            \n",
    "        return activations \n",
    "    def _sigmoid(self , x ) : \n",
    "        return 1 / (1 + np.exp(-x))\n",
    "    \n",
    "    def back_propogate(self , error , verbose=False):\n",
    "        for i in reversed(range(len(self.derivatives))):\n",
    "            activations = self.activations[i+1]\n",
    "            delta = error * self._sigmoid_derivative(activations)\n",
    "            delta_reshaped = delta.reshape(delta.shape[0] , -1).T\n",
    "            current_activation = self.activations[i] \n",
    "            current_activation_reshaped = current_activation.reshape(current_activation.shape[0] , -1)\n",
    "            self.derivatives[i] = np.dot(current_activation_reshaped , delta_reshaped)\n",
    "            error = np.dot(delta , self.weights[i].T)\n",
    "            \n",
    "            if verbose : \n",
    "                print('Derviates for W{} : {}'.format(i , self.derivatives))\n",
    "        return error\n",
    "    \n",
    "    def gradient_descent(self , learning_rate , verbose=False):\n",
    "        for i in range(len(self.weights)):\n",
    "            weights = self.weights[i]\n",
    "            if verbose : \n",
    "                print(\"Before : W{} : {}\".format(i , weights))\n",
    "            derivatives = self.derivatives[i]\n",
    "            weights += derivatives * learning_rate\n",
    "            if verbose : \n",
    "                print(\"After : W{} : {}\".format(i , weights))\n",
    "    \n",
    "    def train(self , inputs , targets , epochs , learning_rate ):\n",
    "        for i in range(epochs):\n",
    "            sum_error = 0\n",
    "            \n",
    "            for j,input in enumerate(inputs):\n",
    "                \n",
    "                target = targets[j]\n",
    "                \n",
    "                op = self.foward_propogate(input)\n",
    "\n",
    "                error = target - op\n",
    "        \n",
    "                self.back_propogate(error)\n",
    "\n",
    "                self.gradient_descent(learning_rate)\n",
    " \n",
    "                sum_error = sum_error + self._mse(target , op)\n",
    "    \n",
    "            print(\"Error : {} at epoch {}\".format(sum_error/len(inputs), i+1) )\n",
    "    \n",
    "    def test(self , inputs ):\n",
    "        op = self.foward_propogate(inputs)\n",
    "        print(\"Op of the test is {}\".format(op))\n",
    "        \n",
    "        \n",
    "    def _mse(self , target , output ):\n",
    "        return np.average((target - output)**2)\n",
    "    \n",
    "    def _sigmoid_derivative(self , x):\n",
    "        return x * (1.0 - x)\n",
    "        \n",
    "    "
   ]
  },
  {
   "cell_type": "code",
   "execution_count": 124,
   "id": "4ded02af",
   "metadata": {},
   "outputs": [
    {
     "name": "stdout",
     "output_type": "stream",
     "text": [
      "[[0.95474578 0.16029372 0.78163989]\n",
      " [0.94912919 0.54039995 0.11418317]\n",
      " [0.72839728 0.60204915 0.9231772 ]]\n"
     ]
    }
   ],
   "source": [
    "import numpy as np\n",
    "w = np.random.rand(3,3)\n",
    "print(w)"
   ]
  },
  {
   "cell_type": "code",
   "execution_count": 125,
   "id": "81a432c0",
   "metadata": {},
   "outputs": [
    {
     "name": "stdout",
     "output_type": "stream",
     "text": [
      "The network i/p is : [0.38364367 0.93329119 0.39446931] \n",
      "The network o/p is : [0.82127206 0.84458156] \n"
     ]
    }
   ],
   "source": [
    "#create a mlp \n",
    "mlp = MLP()\n",
    "#create inputs \n",
    "inputs = np.random.rand(mlp.num_inputs)\n",
    "# do foward propogations \n",
    "outputs=mlp.foward_propogate(inputs)\n",
    "#results\n",
    "print(\"The network i/p is : {} \".format(inputs)) \n",
    "print(\"The network o/p is : {} \".format(outputs)) "
   ]
  },
  {
   "cell_type": "code",
   "execution_count": 137,
   "id": "272e768f",
   "metadata": {},
   "outputs": [
    {
     "name": "stdout",
     "output_type": "stream",
     "text": [
      "Error : 0.027763161064259106 at epoch 1\n",
      "Error : 0.002930838820240789 at epoch 2\n",
      "Error : 0.0009170459269787682 at epoch 3\n",
      "Error : 0.0006713334594201688 at epoch 4\n",
      "Error : 0.0005892754504998832 at epoch 5\n",
      "Error : 0.000541230641233819 at epoch 6\n",
      "Error : 0.0005078977437871836 at epoch 7\n",
      "Error : 0.00048327962566818597 at epoch 8\n",
      "Error : 0.0004643094381918556 at epoch 9\n",
      "Error : 0.0004491898092006889 at epoch 10\n",
      "Error : 0.00043680745184126194 at epoch 11\n",
      "Error : 0.0004264401793570485 at epoch 12\n",
      "Error : 0.00041760021364111317 at epoch 13\n",
      "Error : 0.0004099466207043413 at epoch 14\n",
      "Error : 0.00040323407598198197 at epoch 15\n",
      "Error : 0.00039728159939690053 at epoch 16\n",
      "Error : 0.00039195276580024856 at epoch 17\n",
      "Error : 0.0003871427755112017 at epoch 18\n",
      "Error : 0.00038276976990275107 at epoch 19\n",
      "Error : 0.0003787688544999108 at epoch 20\n",
      "Error : 0.00037508789569555063 at epoch 21\n",
      "Error : 0.0003716845072549737 at epoch 22\n",
      "Error : 0.0003685238521212969 at epoch 23\n",
      "Error : 0.0003655770137043068 at epoch 24\n",
      "Error : 0.0003628197718997094 at epoch 25\n",
      "Error : 0.0003602316713115602 at epoch 26\n",
      "Error : 0.0003577953034874521 at epoch 27\n",
      "Error : 0.00035549574797405595 at epoch 28\n",
      "Error : 0.00035332013266786786 at epoch 29\n",
      "Error : 0.0003512572847773602 at epoch 30\n",
      "Error : 0.0003492974513235294 at epoch 31\n",
      "Error : 0.000347432073520198 at epoch 32\n",
      "Error : 0.00034565360327553664 at epoch 33\n",
      "Error : 0.0003439553528975205 at epoch 34\n",
      "Error : 0.0003423313711788375 at epoch 35\n",
      "Error : 0.00034077634059313284 at epoch 36\n",
      "Error : 0.0003392854915033581 at epoch 37\n",
      "Error : 0.0003378545301681425 at epoch 38\n",
      "Error : 0.00033647957800830814 at epoch 39\n",
      "Error : 0.0003351571201160068 at epoch 40\n",
      "Error : 0.00033388396139242117 at epoch 41\n",
      "Error : 0.00033265718901507875 at epoch 42\n",
      "Error : 0.0003314741401832433 at epoch 43\n",
      "Error : 0.00033033237428572727 at epoch 44\n",
      "Error : 0.00032922964879107675 at epoch 45\n",
      "Error : 0.00032816389828463745 at epoch 46\n",
      "Error : 0.0003271332161771777 at epoch 47\n",
      "Error : 0.00032613583869062305 at epoch 48\n",
      "Error : 0.00032517013079223615 at epoch 49\n",
      "Error : 0.000324234573802166 at epoch 50\n",
      "Op of the test is [0.836516]\n"
     ]
    }
   ],
   "source": [
    "if __name__ == \"__main__\":\n",
    "    #create an mlp\n",
    "    mlp = MLP(2, [5] , 1)\n",
    "    #create dummy data\n",
    "    items = np.array([[random()/2 for _ in range(2)] for _ in range(5000)])\n",
    "    targets = np.array([[i[0] + i[1]] for i in items])\n",
    "    \n",
    "    mlp.train(items , targets , 50 , 0.5)\n",
    "    #foward propogation\n",
    "    mlp.test([0.45, .43])"
   ]
  },
  {
   "cell_type": "code",
   "execution_count": 36,
   "id": "0a1dda33",
   "metadata": {},
   "outputs": [
    {
     "name": "stdout",
     "output_type": "stream",
     "text": [
      "<class 'int'> 3\n",
      "<class 'int'> 3\n",
      "<class 'int'> 3\n"
     ]
    }
   ],
   "source": []
  },
  {
   "cell_type": "code",
   "execution_count": 37,
   "id": "907e3af2",
   "metadata": {},
   "outputs": [
    {
     "data": {
      "text/plain": [
       "array([[0., 0., 0.],\n",
       "       [0., 0., 0.],\n",
       "       [0., 0., 0.]])"
      ]
     },
     "execution_count": 37,
     "metadata": {},
     "output_type": "execute_result"
    }
   ],
   "source": [
    "np.zeros((3,3))"
   ]
  },
  {
   "cell_type": "code",
   "execution_count": null,
   "id": "632347ad",
   "metadata": {},
   "outputs": [],
   "source": []
  }
 ],
 "metadata": {
  "kernelspec": {
   "display_name": "Python 3 (ipykernel)",
   "language": "python",
   "name": "python3"
  },
  "language_info": {
   "codemirror_mode": {
    "name": "ipython",
    "version": 3
   },
   "file_extension": ".py",
   "mimetype": "text/x-python",
   "name": "python",
   "nbconvert_exporter": "python",
   "pygments_lexer": "ipython3",
   "version": "3.9.7"
  }
 },
 "nbformat": 4,
 "nbformat_minor": 5
}
