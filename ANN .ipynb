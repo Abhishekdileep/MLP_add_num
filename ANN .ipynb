{
 "cells": [
  {
   "cell_type": "code",
   "execution_count": 3,
   "id": "8b0a8304",
   "metadata": {},
   "outputs": [],
   "source": [
    "import math"
   ]
  },
  {
   "cell_type": "code",
   "execution_count": 4,
   "id": "3ae56b9b",
   "metadata": {},
   "outputs": [],
   "source": [
    "inputs = [.5 , .3 , .2]\n",
    "weights = [.4 , .7 , .2]\n"
   ]
  },
  {
   "cell_type": "code",
   "execution_count": 5,
   "id": "7729dd26",
   "metadata": {},
   "outputs": [],
   "source": [
    "def sigmoid(x) :\n",
    "    y = 1.0/(1 + math.exp(-x))\n",
    "    return y"
   ]
  },
  {
   "cell_type": "code",
   "execution_count": 8,
   "id": "0fb57880",
   "metadata": {},
   "outputs": [],
   "source": [
    "def activate(inputs , weights ) :\n",
    "    #Perform net input\n",
    "    h = 0\n",
    "    for i,j in zip(inputs,weights) : \n",
    "        h += i*j \n",
    "    #perform the activation \n",
    "    return sigmoid(h)"
   ]
  },
  {
   "cell_type": "code",
   "execution_count": 9,
   "id": "7c5af94f",
   "metadata": {},
   "outputs": [
    {
     "name": "stdout",
     "output_type": "stream",
     "text": [
      "0.610639233949222\n"
     ]
    }
   ],
   "source": [
    "output = activate(inputs , weights)\n",
    "print(output)"
   ]
  },
  {
   "cell_type": "code",
   "execution_count": null,
   "id": "3602b2c6",
   "metadata": {},
   "outputs": [],
   "source": []
  }
 ],
 "metadata": {
  "kernelspec": {
   "display_name": "Python 3 (ipykernel)",
   "language": "python",
   "name": "python3"
  },
  "language_info": {
   "codemirror_mode": {
    "name": "ipython",
    "version": 3
   },
   "file_extension": ".py",
   "mimetype": "text/x-python",
   "name": "python",
   "nbconvert_exporter": "python",
   "pygments_lexer": "ipython3",
   "version": "3.9.7"
  }
 },
 "nbformat": 4,
 "nbformat_minor": 5
}
