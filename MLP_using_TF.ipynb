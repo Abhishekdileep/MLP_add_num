{
 "cells": [
  {
   "cell_type": "code",
   "execution_count": 15,
   "id": "8721abd8",
   "metadata": {},
   "outputs": [],
   "source": [
    "import numpy as np\n",
    "from random import random\n",
    "from sklearn.model_selection import train_test_split as tts\n",
    "import tensorflow as tf"
   ]
  },
  {
   "cell_type": "code",
   "execution_count": 16,
   "id": "e50f1957",
   "metadata": {},
   "outputs": [],
   "source": [
    "def generate(num_samples , test_size ):\n",
    "    x = np.array([[random()/2 for _ in range(2)] for _ in range(num_samples)])\n",
    "    y = np.array([[i[0] + i[1]] for i in x ])\n",
    "    \n",
    "    x_train , x_test , y_train , y_test = tts(x,y,test_size=test_size)\n",
    "    return x_train , x_test , y_train , y_test\n",
    "    "
   ]
  },
  {
   "cell_type": "code",
   "execution_count": 57,
   "id": "66a02f13",
   "metadata": {},
   "outputs": [],
   "source": [
    "x_train , x_test , y_train , y_test = generate(10000,0.3)"
   ]
  },
  {
   "cell_type": "code",
   "execution_count": 63,
   "id": "38ed5fd8",
   "metadata": {},
   "outputs": [],
   "source": [
    "model = tf.keras.Sequential([\n",
    "    tf.keras.layers.Dense(5 , input_dim=2 , activation =\"linear\")\n",
    "    ,tf.keras.layers.Dense(1, activation=\"linear\")\n",
    "])"
   ]
  },
  {
   "cell_type": "code",
   "execution_count": 64,
   "id": "886968a8",
   "metadata": {},
   "outputs": [],
   "source": [
    "optimiser = tf.keras.optimizers.SGD(learning_rate=0.1)\n",
    "model.compile(optimizer=optimiser , loss=\"MSE\")"
   ]
  },
  {
   "cell_type": "code",
   "execution_count": 69,
   "id": "e26ce931",
   "metadata": {},
   "outputs": [
    {
     "name": "stdout",
     "output_type": "stream",
     "text": [
      "Epoch 1/100\n",
      "7000/7000 [==============================] - 9s 1ms/step - loss: 2.4466e-15\n",
      "Epoch 2/100\n",
      "7000/7000 [==============================] - 9s 1ms/step - loss: 2.2892e-15\n",
      "Epoch 3/100\n",
      "7000/7000 [==============================] - 9s 1ms/step - loss: 2.3122e-15\n",
      "Epoch 4/100\n",
      "7000/7000 [==============================] - 9s 1ms/step - loss: 2.2309e-15\n",
      "Epoch 5/100\n",
      "7000/7000 [==============================] - 9s 1ms/step - loss: 2.2339e-15\n",
      "Epoch 6/100\n",
      "7000/7000 [==============================] - 9s 1ms/step - loss: 2.3264e-15\n",
      "Epoch 7/100\n",
      "7000/7000 [==============================] - 9s 1ms/step - loss: 2.2410e-15\n",
      "Epoch 8/100\n",
      "7000/7000 [==============================] - 9s 1ms/step - loss: 2.3517e-15\n",
      "Epoch 9/100\n",
      "7000/7000 [==============================] - 9s 1ms/step - loss: 2.5141e-15\n",
      "Epoch 10/100\n",
      "7000/7000 [==============================] - 10s 1ms/step - loss: 2.9793e-15\n",
      "Epoch 11/100\n",
      "7000/7000 [==============================] - 9s 1ms/step - loss: 2.2892e-15\n",
      "Epoch 12/100\n",
      "7000/7000 [==============================] - 9s 1ms/step - loss: 2.3200e-15\n",
      "Epoch 13/100\n",
      "7000/7000 [==============================] - 9s 1ms/step - loss: 2.4064e-15\n",
      "Epoch 14/100\n",
      "7000/7000 [==============================] - 9s 1ms/step - loss: 2.4697e-15\n",
      "Epoch 15/100\n",
      "7000/7000 [==============================] - 10s 1ms/step - loss: 2.3096e-15\n",
      "Epoch 16/100\n",
      "7000/7000 [==============================] - 9s 1ms/step - loss: 2.3621e-15\n",
      "Epoch 17/100\n",
      "7000/7000 [==============================] - 9s 1ms/step - loss: 2.3649e-15\n",
      "Epoch 18/100\n",
      "7000/7000 [==============================] - 9s 1ms/step - loss: 2.3617e-15\n",
      "Epoch 19/100\n",
      "7000/7000 [==============================] - 9s 1ms/step - loss: 2.2361e-15\n",
      "Epoch 20/100\n",
      "7000/7000 [==============================] - 9s 1ms/step - loss: 2.3265e-15\n",
      "Epoch 21/100\n",
      "7000/7000 [==============================] - 9s 1ms/step - loss: 2.2753e-15\n",
      "Epoch 22/100\n",
      "7000/7000 [==============================] - 9s 1ms/step - loss: 2.3715e-15\n",
      "Epoch 23/100\n",
      "7000/7000 [==============================] - 9s 1ms/step - loss: 2.3096e-15\n",
      "Epoch 24/100\n",
      "7000/7000 [==============================] - 9s 1ms/step - loss: 2.3405e-15\n",
      "Epoch 25/100\n",
      "7000/7000 [==============================] - 9s 1ms/step - loss: 2.4139e-15\n",
      "Epoch 26/100\n",
      "7000/7000 [==============================] - 9s 1ms/step - loss: 2.4143e-15\n",
      "Epoch 27/100\n",
      "7000/7000 [==============================] - 9s 1ms/step - loss: 2.3643e-15\n",
      "Epoch 28/100\n",
      "7000/7000 [==============================] - 9s 1ms/step - loss: 2.3228e-15\n",
      "Epoch 29/100\n",
      "7000/7000 [==============================] - 10s 1ms/step - loss: 2.2125e-15\n",
      "Epoch 30/100\n",
      "7000/7000 [==============================] - 9s 1ms/step - loss: 2.2442e-15\n",
      "Epoch 31/100\n",
      "7000/7000 [==============================] - 9s 1ms/step - loss: 2.3504e-15\n",
      "Epoch 32/100\n",
      "7000/7000 [==============================] - 9s 1ms/step - loss: 2.3018e-15\n",
      "Epoch 33/100\n",
      "7000/7000 [==============================] - 9s 1ms/step - loss: 2.3971e-15\n",
      "Epoch 34/100\n",
      "7000/7000 [==============================] - 9s 1ms/step - loss: 2.2703e-15\n",
      "Epoch 35/100\n",
      "7000/7000 [==============================] - 9s 1ms/step - loss: 2.3055e-15\n",
      "Epoch 36/100\n",
      "7000/7000 [==============================] - 9s 1ms/step - loss: 2.2737e-15\n",
      "Epoch 37/100\n",
      "7000/7000 [==============================] - 9s 1ms/step - loss: 2.3422e-15\n",
      "Epoch 38/100\n",
      "7000/7000 [==============================] - 9s 1ms/step - loss: 2.3251e-15\n",
      "Epoch 39/100\n",
      "7000/7000 [==============================] - 9s 1ms/step - loss: 2.3160e-15\n",
      "Epoch 40/100\n",
      "7000/7000 [==============================] - 9s 1ms/step - loss: 2.3430e-15\n",
      "Epoch 41/100\n",
      "7000/7000 [==============================] - 9s 1ms/step - loss: 2.3918e-15\n",
      "Epoch 42/100\n",
      "7000/7000 [==============================] - 9s 1ms/step - loss: 2.3210e-15\n",
      "Epoch 43/100\n",
      "7000/7000 [==============================] - 9s 1ms/step - loss: 2.2923e-15\n",
      "Epoch 44/100\n",
      "7000/7000 [==============================] - 9s 1ms/step - loss: 2.3365e-15\n",
      "Epoch 45/100\n",
      "7000/7000 [==============================] - 9s 1ms/step - loss: 2.3673e-15\n",
      "Epoch 46/100\n",
      "7000/7000 [==============================] - 9s 1ms/step - loss: 2.3644e-15\n",
      "Epoch 47/100\n",
      "7000/7000 [==============================] - 9s 1ms/step - loss: 2.3508e-15\n",
      "Epoch 48/100\n",
      "7000/7000 [==============================] - 9s 1ms/step - loss: 2.2980e-15\n",
      "Epoch 49/100\n",
      "7000/7000 [==============================] - 9s 1ms/step - loss: 2.3376e-15\n",
      "Epoch 50/100\n",
      "7000/7000 [==============================] - 9s 1ms/step - loss: 2.3792e-15\n",
      "Epoch 51/100\n",
      "7000/7000 [==============================] - 9s 1ms/step - loss: 2.3999e-15\n",
      "Epoch 52/100\n",
      "7000/7000 [==============================] - 9s 1ms/step - loss: 2.3446e-15\n",
      "Epoch 53/100\n",
      "7000/7000 [==============================] - 9s 1ms/step - loss: 2.3856e-15\n",
      "Epoch 54/100\n",
      "7000/7000 [==============================] - 9s 1ms/step - loss: 2.4014e-15\n",
      "Epoch 55/100\n",
      "7000/7000 [==============================] - 9s 1ms/step - loss: 2.3078e-15\n",
      "Epoch 56/100\n",
      "7000/7000 [==============================] - 9s 1ms/step - loss: 2.3780e-15\n",
      "Epoch 57/100\n",
      "7000/7000 [==============================] - 9s 1ms/step - loss: 2.3701e-15\n",
      "Epoch 58/100\n",
      "7000/7000 [==============================] - 9s 1ms/step - loss: 2.3217e-15\n",
      "Epoch 59/100\n",
      "7000/7000 [==============================] - 8s 1ms/step - loss: 2.2381e-15\n",
      "Epoch 60/100\n",
      "7000/7000 [==============================] - 9s 1ms/step - loss: 2.4827e-15\n",
      "Epoch 61/100\n",
      "7000/7000 [==============================] - 9s 1ms/step - loss: 2.4452e-15\n",
      "Epoch 62/100\n",
      "7000/7000 [==============================] - 9s 1ms/step - loss: 2.3789e-15\n",
      "Epoch 63/100\n",
      "7000/7000 [==============================] - 9s 1ms/step - loss: 2.3494e-15\n",
      "Epoch 64/100\n",
      "7000/7000 [==============================] - 9s 1ms/step - loss: 2.3848e-15\n",
      "Epoch 65/100\n",
      "7000/7000 [==============================] - 9s 1ms/step - loss: 2.4020e-15\n",
      "Epoch 66/100\n",
      "7000/7000 [==============================] - 9s 1ms/step - loss: 2.4831e-15\n",
      "Epoch 67/100\n",
      "7000/7000 [==============================] - 9s 1ms/step - loss: 2.2475e-15\n",
      "Epoch 68/100\n",
      "7000/7000 [==============================] - 9s 1ms/step - loss: 2.2908e-15\n",
      "Epoch 69/100\n",
      "7000/7000 [==============================] - 9s 1ms/step - loss: 2.3118e-15\n",
      "Epoch 70/100\n",
      "7000/7000 [==============================] - 9s 1ms/step - loss: 2.2529e-15\n",
      "Epoch 71/100\n",
      "7000/7000 [==============================] - 9s 1ms/step - loss: 2.2617e-15\n",
      "Epoch 72/100\n",
      "7000/7000 [==============================] - 8s 1ms/step - loss: 2.4180e-15\n",
      "Epoch 73/100\n",
      "7000/7000 [==============================] - 10s 1ms/step - loss: 2.3807e-15\n",
      "Epoch 74/100\n",
      "7000/7000 [==============================] - 9s 1ms/step - loss: 2.4783e-15\n",
      "Epoch 75/100\n",
      "7000/7000 [==============================] - 9s 1ms/step - loss: 2.2958e-15\n",
      "Epoch 76/100\n",
      "7000/7000 [==============================] - 9s 1ms/step - loss: 2.3916e-15\n",
      "Epoch 77/100\n",
      "7000/7000 [==============================] - 9s 1ms/step - loss: 2.3837e-15\n",
      "Epoch 78/100\n",
      "7000/7000 [==============================] - 9s 1ms/step - loss: 2.3820e-15\n",
      "Epoch 79/100\n",
      "7000/7000 [==============================] - 9s 1ms/step - loss: 2.4169e-15\n",
      "Epoch 80/100\n",
      "7000/7000 [==============================] - 9s 1ms/step - loss: 2.3652e-15\n",
      "Epoch 81/100\n",
      "7000/7000 [==============================] - 9s 1ms/step - loss: 2.4041e-15\n",
      "Epoch 82/100\n",
      "7000/7000 [==============================] - 9s 1ms/step - loss: 2.3928e-15\n",
      "Epoch 83/100\n",
      "7000/7000 [==============================] - 9s 1ms/step - loss: 2.4212e-15\n",
      "Epoch 84/100\n",
      "7000/7000 [==============================] - 9s 1ms/step - loss: 2.4021e-15\n",
      "Epoch 85/100\n",
      "7000/7000 [==============================] - 9s 1ms/step - loss: 2.3488e-15\n",
      "Epoch 86/100\n",
      "7000/7000 [==============================] - 9s 1ms/step - loss: 2.4149e-15\n",
      "Epoch 87/100\n",
      "7000/7000 [==============================] - 9s 1ms/step - loss: 2.3882e-15\n",
      "Epoch 88/100\n",
      "7000/7000 [==============================] - 9s 1ms/step - loss: 2.4153e-15\n",
      "Epoch 89/100\n",
      "7000/7000 [==============================] - 9s 1ms/step - loss: 2.2904e-15\n",
      "Epoch 90/100\n",
      "7000/7000 [==============================] - 9s 1ms/step - loss: 2.3615e-15\n",
      "Epoch 91/100\n",
      "7000/7000 [==============================] - 9s 1ms/step - loss: 2.2877e-15\n",
      "Epoch 92/100\n",
      "7000/7000 [==============================] - 9s 1ms/step - loss: 2.4830e-15\n",
      "Epoch 93/100\n"
     ]
    },
    {
     "name": "stdout",
     "output_type": "stream",
     "text": [
      "7000/7000 [==============================] - 9s 1ms/step - loss: 2.4127e-15\n",
      "Epoch 94/100\n",
      "7000/7000 [==============================] - 8s 1ms/step - loss: 2.3171e-15\n",
      "Epoch 95/100\n",
      "7000/7000 [==============================] - 9s 1ms/step - loss: 2.3391e-15\n",
      "Epoch 96/100\n",
      "7000/7000 [==============================] - 9s 1ms/step - loss: 2.4167e-15\n",
      "Epoch 97/100\n",
      "7000/7000 [==============================] - 8s 1ms/step - loss: 2.3491e-15\n",
      "Epoch 98/100\n",
      "7000/7000 [==============================] - 9s 1ms/step - loss: 2.2875e-15\n",
      "Epoch 99/100\n",
      "7000/7000 [==============================] - 9s 1ms/step - loss: 2.3497e-15\n",
      "Epoch 100/100\n",
      "7000/7000 [==============================] - 9s 1ms/step - loss: 2.3074e-15\n"
     ]
    },
    {
     "data": {
      "text/plain": [
       "<keras.callbacks.History at 0x21739ec7a60>"
      ]
     },
     "execution_count": 69,
     "metadata": {},
     "output_type": "execute_result"
    }
   ],
   "source": [
    "model.fit(x_train , y_train , epochs=100 , batch_size = 5)"
   ]
  },
  {
   "cell_type": "code",
   "execution_count": 26,
   "id": "17edf9ae",
   "metadata": {},
   "outputs": [
    {
     "name": "stdout",
     "output_type": "stream",
     "text": [
      "model Eval : \n"
     ]
    }
   ],
   "source": [
    "print(\"model Eval : \")"
   ]
  },
  {
   "cell_type": "code",
   "execution_count": 66,
   "id": "acd57116",
   "metadata": {},
   "outputs": [
    {
     "name": "stdout",
     "output_type": "stream",
     "text": [
      "94/94 [==============================] - 0s 909us/step - loss: 1.3197e-15\n"
     ]
    },
    {
     "data": {
      "text/plain": [
       "1.3197348241834948e-15"
      ]
     },
     "execution_count": 66,
     "metadata": {},
     "output_type": "execute_result"
    }
   ],
   "source": [
    "model.evaluate(x_test , y_test ,verbose=True)"
   ]
  },
  {
   "cell_type": "code",
   "execution_count": 68,
   "id": "fd634ae5",
   "metadata": {},
   "outputs": [
    {
     "data": {
      "text/plain": [
       "array([[3.3000002 ],\n",
       "       [0.70000005]], dtype=float32)"
      ]
     },
     "execution_count": 68,
     "metadata": {},
     "output_type": "execute_result"
    }
   ],
   "source": [
    "model.predict(x=np.array([[1.1,2.2]  , [0.5 , 0.2]]))"
   ]
  },
  {
   "cell_type": "code",
   "execution_count": null,
   "id": "d09580f3",
   "metadata": {},
   "outputs": [],
   "source": []
  },
  {
   "cell_type": "code",
   "execution_count": null,
   "id": "acdcc654",
   "metadata": {},
   "outputs": [],
   "source": []
  }
 ],
 "metadata": {
  "kernelspec": {
   "display_name": "Python 3 (ipykernel)",
   "language": "python",
   "name": "python3"
  },
  "language_info": {
   "codemirror_mode": {
    "name": "ipython",
    "version": 3
   },
   "file_extension": ".py",
   "mimetype": "text/x-python",
   "name": "python",
   "nbconvert_exporter": "python",
   "pygments_lexer": "ipython3",
   "version": "3.9.7"
  }
 },
 "nbformat": 4,
 "nbformat_minor": 5
}
